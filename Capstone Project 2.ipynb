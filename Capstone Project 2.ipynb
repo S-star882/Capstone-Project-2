{
 "cells": [
  {
   "cell_type": "markdown",
   "metadata": {},
   "source": [
    "# Business Undertanding\n",
    "To reduce the frequency of car collisions, an algorithim must be developed to predict the severity of an accident, road and visibility conditions. When visibility conditions are bad, this model will alert drivers to remind them to be more careful."
   ]
  },
  {
   "cell_type": "code",
   "execution_count": null,
   "metadata": {},
   "outputs": [],
   "source": [
    "def load_rdd_from_csv(spark=spark, fname='accidents.csv'):\n",
    "    url = project.get_file_url(fname)\n",
    "    return spark.read\\\n",
    "      .format('org.apache.spark.sql.execution.datasources.csv.CSVFileFormat')\\\n",
    "      .option('header', 'true')\\\n",
    "      .load(url)\n",
    "\n",
    "def load_rdd_from_parquet(spark=spark, fname='accidents.parquet'):\n",
    "    return spark.read.format(\"parquet\").load(fname)"
   ]
  },
  {
   "cell_type": "markdown",
   "metadata": {},
   "source": [
    "# Data Understanding\n",
    "Our target variable will be 'SEVERITYCODE' because it is used measure the severity of an accident from 0 to 5 within the dataset. Attributes used to weigh the severity of an accident are 'WEATHER', 'ROADCOND' and 'LIGHTCOND'."
   ]
  },
  {
   "cell_type": "code",
   "execution_count": null,
   "metadata": {},
   "outputs": [],
   "source": [
    "0 : Little to no Probability (Clear Conditions)\n",
    "\n",
    "\n",
    "1 : Very Low Probablility - Chance or Property Damage\n",
    "\n",
    "2 : Low Probability - Chance of Injury\n",
    "\n",
    "3 : Mild Probability - Chance of Serious Injury\n",
    "\n",
    "4 : High Probability - Chance of Fatality\n"
   ]
  },
  {
   "cell_type": "markdown",
   "metadata": {},
   "source": [
    "# Extract Dataset\n",
    "There are many columns that we will not use for this model. Also, most of the features are of type object, they should be numerical type."
   ]
  },
  {
   "cell_type": "markdown",
   "metadata": {},
   "source": [
    "# Balancing the Dataset\n",
    "Our target variable is only 42% balanced. Severitycode in cl. 1 is nearly three times the size of cl. 2."
   ]
  },
  {
   "cell_type": "markdown",
   "metadata": {},
   "source": [
    "# Methodology\n",
    "the data is now ready to be placed into machine learning models."
   ]
  },
  {
   "cell_type": "markdown",
   "metadata": {},
   "source": [
    "K-Nearest Neighbor (KNN)\n",
    "It will help us predict the severity code of an outcome by finding the most similar to data point within k distance.\n",
    "\n",
    "Decision Tree\n",
    "A decision tree model gives us a layout of all possible outcomes so we can fully analyze the concequences of a decision. \n",
    "\n",
    "Logistic Regression\n",
    "Our model will only predict one of those two classes. This will make our data binary, which is perfect to use with logistic regression."
   ]
  },
  {
   "cell_type": "markdown",
   "metadata": {},
   "source": [
    "Evaluation\n",
    "We will check the accuracy of our models."
   ]
  },
  {
   "cell_type": "markdown",
   "metadata": {},
   "source": [
    "# Discussion\n",
    "After we analyzed and cleaned the data, it was then fed through three ML models; K-Nearest Neighbor, Decision Tree and Logistic Regression. The first two are ideal for this project, logistic regression made most sense because of its binary nature.\n",
    "\n",
    "The different k, max depth and hyparameter C values helped to improve the accuracy to be the best possible."
   ]
  },
  {
   "cell_type": "code",
   "execution_count": null,
   "metadata": {},
   "outputs": [],
   "source": []
  }
 ],
 "metadata": {
  "kernelspec": {
   "display_name": "Python 3",
   "language": "python",
   "name": "python3"
  },
  "language_info": {
   "codemirror_mode": {
    "name": "ipython",
    "version": 3
   },
   "file_extension": ".py",
   "mimetype": "text/x-python",
   "name": "python",
   "nbconvert_exporter": "python",
   "pygments_lexer": "ipython3",
   "version": "3.7.6"
  }
 },
 "nbformat": 4,
 "nbformat_minor": 4
}
